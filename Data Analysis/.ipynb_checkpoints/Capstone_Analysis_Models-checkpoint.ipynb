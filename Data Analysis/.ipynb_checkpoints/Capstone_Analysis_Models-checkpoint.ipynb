{
 "cells": [
  {
   "cell_type": "markdown",
   "id": "3be7ba0d-9f61-4876-9f0e-643bfa5585c0",
   "metadata": {
    "id": "3be7ba0d-9f61-4876-9f0e-643bfa5585c0"
   },
   "source": [
    "## OLS Regression"
   ]
  },
  {
   "cell_type": "code",
   "execution_count": 30,
   "id": "f990efbd-df88-4626-b4d2-055efb851493",
   "metadata": {
    "colab": {
     "base_uri": "https://localhost:8080/"
    },
    "id": "f990efbd-df88-4626-b4d2-055efb851493",
    "outputId": "3c0a5716-7a3b-46bc-f2d2-94b845f58f64"
   },
   "outputs": [
    {
     "name": "stdout",
     "output_type": "stream",
     "text": [
      "Requirement already satisfied: dmba in /usr/local/lib/python3.10/dist-packages (0.2.4)\n",
      "Requirement already satisfied: graphviz in /usr/local/lib/python3.10/dist-packages (from dmba) (0.20.3)\n",
      "Requirement already satisfied: matplotlib in /usr/local/lib/python3.10/dist-packages (from dmba) (3.8.0)\n",
      "Requirement already satisfied: numpy in /usr/local/lib/python3.10/dist-packages (from dmba) (1.26.4)\n",
      "Requirement already satisfied: pandas in /usr/local/lib/python3.10/dist-packages (from dmba) (2.2.2)\n",
      "Requirement already satisfied: scikit-learn in /usr/local/lib/python3.10/dist-packages (from dmba) (1.5.2)\n",
      "Requirement already satisfied: scipy in /usr/local/lib/python3.10/dist-packages (from dmba) (1.13.1)\n",
      "Requirement already satisfied: contourpy>=1.0.1 in /usr/local/lib/python3.10/dist-packages (from matplotlib->dmba) (1.3.1)\n",
      "Requirement already satisfied: cycler>=0.10 in /usr/local/lib/python3.10/dist-packages (from matplotlib->dmba) (0.12.1)\n",
      "Requirement already satisfied: fonttools>=4.22.0 in /usr/local/lib/python3.10/dist-packages (from matplotlib->dmba) (4.55.0)\n",
      "Requirement already satisfied: kiwisolver>=1.0.1 in /usr/local/lib/python3.10/dist-packages (from matplotlib->dmba) (1.4.7)\n",
      "Requirement already satisfied: packaging>=20.0 in /usr/local/lib/python3.10/dist-packages (from matplotlib->dmba) (24.2)\n",
      "Requirement already satisfied: pillow>=6.2.0 in /usr/local/lib/python3.10/dist-packages (from matplotlib->dmba) (11.0.0)\n",
      "Requirement already satisfied: pyparsing>=2.3.1 in /usr/local/lib/python3.10/dist-packages (from matplotlib->dmba) (3.2.0)\n",
      "Requirement already satisfied: python-dateutil>=2.7 in /usr/local/lib/python3.10/dist-packages (from matplotlib->dmba) (2.8.2)\n",
      "Requirement already satisfied: pytz>=2020.1 in /usr/local/lib/python3.10/dist-packages (from pandas->dmba) (2024.2)\n",
      "Requirement already satisfied: tzdata>=2022.7 in /usr/local/lib/python3.10/dist-packages (from pandas->dmba) (2024.2)\n",
      "Requirement already satisfied: joblib>=1.2.0 in /usr/local/lib/python3.10/dist-packages (from scikit-learn->dmba) (1.4.2)\n",
      "Requirement already satisfied: threadpoolctl>=3.1.0 in /usr/local/lib/python3.10/dist-packages (from scikit-learn->dmba) (3.5.0)\n",
      "Requirement already satisfied: six>=1.5 in /usr/local/lib/python3.10/dist-packages (from python-dateutil>=2.7->matplotlib->dmba) (1.16.0)\n"
     ]
    }
   ],
   "source": [
    "from pathlib import Path # to interact with file system.\n",
    "\n",
    "import numpy as np # for working with arrays.\n",
    "import pandas as pd # for working with data frames (tables).\n",
    "\n",
    "from sklearn.model_selection import train_test_split\n",
    "from sklearn.linear_model import LinearRegression\n",
    "import statsmodels.formula.api as sm\n",
    "import matplotlib.pylab as plt\n",
    "!pip install dmba\n",
    "import seaborn as sns\n",
    "import dmba\n",
    "from dmba import regressionSummary, exhaustive_search\n",
    "from dmba import backward_elimination, forward_selection, stepwise_selection\n",
    "from dmba import adjusted_r2_score, AIC_score, BIC_score\n",
    "\n",
    "%matplotlib inline"
   ]
  },
  {
   "cell_type": "code",
   "execution_count": 31,
   "id": "a48bf6d9-7c57-474f-ac8c-b3737366b6c2",
   "metadata": {
    "colab": {
     "base_uri": "https://localhost:8080/"
    },
    "id": "a48bf6d9-7c57-474f-ac8c-b3737366b6c2",
    "outputId": "73f53f1f-d51a-488f-b248-e78287ae853e"
   },
   "outputs": [
    {
     "data": {
      "text/plain": [
       "(3745, 27)"
      ]
     },
     "execution_count": 31,
     "metadata": {},
     "output_type": "execute_result"
    }
   ],
   "source": [
    "redfin_df = pd.read_excel('/Combined_Data.xlsx')\n",
    "redfin_df.shape"
   ]
  },
  {
   "cell_type": "code",
   "execution_count": 32,
   "id": "a3422684-2d81-4b52-8acc-de3bf6eec950",
   "metadata": {
    "colab": {
     "base_uri": "https://localhost:8080/"
    },
    "id": "a3422684-2d81-4b52-8acc-de3bf6eec950",
    "outputId": "d42988b0-ea33-4432-f51a-b8603598ee15"
   },
   "outputs": [
    {
     "name": "stdout",
     "output_type": "stream",
     "text": [
      "Estimated_market_value         0\n",
      "Selling_Price                  0\n",
      "Date_Sold                    135\n",
      "Estimated_Monthly_Cost      1439\n",
      "Estimated_Rental_Value         0\n",
      "Zipcode                        0\n",
      "Beds                           0\n",
      "Bathrooms                      0\n",
      "Square_Feet                    0\n",
      "Address                        0\n",
      "Year_Built                     0\n",
      "Price_Per_Sqft              2749\n",
      "Lot_Size                       0\n",
      "Parking_Spaces                 0\n",
      "Monthly_Mortgage_Payment    1439\n",
      "Walk_Score                     0\n",
      "Estimated_Salesrange_min       0\n",
      "Estimated_Salesrange_max       0\n",
      "Company_Adj                    0\n",
      "Stories                     1458\n",
      "Roof                        1478\n",
      "Laundry                     2239\n",
      "Flooring                    1665\n",
      "Cooling_Type                1937\n",
      "Garage_Spaces               1504\n",
      "Transit_Score                786\n",
      "Bike_Score                  1100\n",
      "dtype: int64\n"
     ]
    }
   ],
   "source": [
    "print(redfin_df.isnull().sum())"
   ]
  },
  {
   "cell_type": "code",
   "execution_count": 33,
   "id": "3a4b9145-8812-478b-8bb6-2bcb423f54fd",
   "metadata": {
    "colab": {
     "base_uri": "https://localhost:8080/"
    },
    "id": "3a4b9145-8812-478b-8bb6-2bcb423f54fd",
    "outputId": "57e4d863-2b30-4da6-8b10-e91b10ff45fc"
   },
   "outputs": [
    {
     "data": {
      "text/plain": [
       "3745"
      ]
     },
     "execution_count": 33,
     "metadata": {},
     "output_type": "execute_result"
    }
   ],
   "source": [
    "redfin_df = redfin_df.dropna(subset=['Company_Adj'])\n",
    "redfin_df = redfin_df.reset_index(drop=True)\n",
    "redfin_df\n",
    "redfin_df.shape[0]"
   ]
  },
  {
   "cell_type": "code",
   "execution_count": 34,
   "id": "fbd21dfb-1f61-4c72-91d9-0d4f8f9715e1",
   "metadata": {
    "colab": {
     "base_uri": "https://localhost:8080/",
     "height": 929
    },
    "id": "fbd21dfb-1f61-4c72-91d9-0d4f8f9715e1",
    "outputId": "10f8b979-a914-4903-cdd4-95b3f86dad93"
   },
   "outputs": [
    {
     "data": {
      "application/vnd.google.colaboratory.intrinsic+json": {
       "summary": "{\n  \"name\": \"redfin_df\",\n  \"rows\": 3745,\n  \"fields\": [\n    {\n      \"column\": \"Estimated_market_value\",\n      \"properties\": {\n        \"dtype\": \"number\",\n        \"std\": 2090781,\n        \"min\": 0,\n        \"max\": 27442066,\n        \"num_unique_values\": 2303,\n        \"samples\": [\n          1885250,\n          3886661,\n          2024968\n        ],\n        \"semantic_type\": \"\",\n        \"description\": \"\"\n      }\n    },\n    {\n      \"column\": \"Selling_Price\",\n      \"properties\": {\n        \"dtype\": \"number\",\n        \"std\": 2226936,\n        \"min\": 240000,\n        \"max\": 33900000,\n        \"num_unique_values\": 1286,\n        \"samples\": [\n          995000,\n          1918000,\n          5725000\n        ],\n        \"semantic_type\": \"\",\n        \"description\": \"\"\n      }\n    },\n    {\n      \"column\": \"Estimated_Rental_Value\",\n      \"properties\": {\n        \"dtype\": \"number\",\n        \"std\": 3069.662928553581,\n        \"min\": 0.0,\n        \"max\": 19451.0,\n        \"num_unique_values\": 2620,\n        \"samples\": [\n          4521.0,\n          3804.0,\n          12801.0\n        ],\n        \"semantic_type\": \"\",\n        \"description\": \"\"\n      }\n    },\n    {\n      \"column\": \"Zipcode\",\n      \"properties\": {\n        \"dtype\": \"number\",\n        \"std\": 478,\n        \"min\": 94022,\n        \"max\": 95148,\n        \"num_unique_values\": 71,\n        \"samples\": [\n          95122,\n          95070,\n          94111\n        ],\n        \"semantic_type\": \"\",\n        \"description\": \"\"\n      }\n    },\n    {\n      \"column\": \"Beds\",\n      \"properties\": {\n        \"dtype\": \"number\",\n        \"std\": 1,\n        \"min\": 0,\n        \"max\": 9,\n        \"num_unique_values\": 10,\n        \"samples\": [\n          7,\n          5,\n          1\n        ],\n        \"semantic_type\": \"\",\n        \"description\": \"\"\n      }\n    },\n    {\n      \"column\": \"Bathrooms\",\n      \"properties\": {\n        \"dtype\": \"number\",\n        \"std\": 1.0552148961233692,\n        \"min\": 0.0,\n        \"max\": 9.5,\n        \"num_unique_values\": 19,\n        \"samples\": [\n          2.0,\n          3.5,\n          6.5\n        ],\n        \"semantic_type\": \"\",\n        \"description\": \"\"\n      }\n    },\n    {\n      \"column\": \"Square_Feet\",\n      \"properties\": {\n        \"dtype\": \"number\",\n        \"std\": 87402,\n        \"min\": 0,\n        \"max\": 5350000,\n        \"num_unique_values\": 1629,\n        \"samples\": [\n          2258,\n          3557,\n          2426\n        ],\n        \"semantic_type\": \"\",\n        \"description\": \"\"\n      }\n    },\n    {\n      \"column\": \"Address\",\n      \"properties\": {\n        \"dtype\": \"string\",\n        \"num_unique_values\": 3745,\n        \"samples\": [\n          \"1219 York St,San Francisco, CA 94110\",\n          \"44 Campbell Ln,Menlo Park, CA 94025\",\n          \"3586 Londonderry Dr\"\n        ],\n        \"semantic_type\": \"\",\n        \"description\": \"\"\n      }\n    },\n    {\n      \"column\": \"Year_Built\",\n      \"properties\": {\n        \"dtype\": \"date\",\n        \"min\": \"1970-01-01 00:00:00\",\n        \"max\": \"2009-02-01 00:00:00\",\n        \"num_unique_values\": 139,\n        \"samples\": [\n          \"2000-02-02 00:00:00\",\n          2013,\n          1962\n        ],\n        \"semantic_type\": \"\",\n        \"description\": \"\"\n      }\n    },\n    {\n      \"column\": \"Lot_Size\",\n      \"properties\": {\n        \"dtype\": \"category\",\n        \"num_unique_values\": 1542,\n        \"samples\": [\n          2928,\n          47480.4,\n          26571.6\n        ],\n        \"semantic_type\": \"\",\n        \"description\": \"\"\n      }\n    },\n    {\n      \"column\": \"Parking_Spaces\",\n      \"properties\": {\n        \"dtype\": \"number\",\n        \"std\": 1823,\n        \"min\": 0,\n        \"max\": 9999,\n        \"num_unique_values\": 14,\n        \"samples\": [\n          0,\n          12,\n          1\n        ],\n        \"semantic_type\": \"\",\n        \"description\": \"\"\n      }\n    },\n    {\n      \"column\": \"Walk_Score\",\n      \"properties\": {\n        \"dtype\": \"number\",\n        \"std\": 22,\n        \"min\": 0,\n        \"max\": 100,\n        \"num_unique_values\": 101,\n        \"samples\": [\n          95,\n          46,\n          36\n        ],\n        \"semantic_type\": \"\",\n        \"description\": \"\"\n      }\n    },\n    {\n      \"column\": \"Estimated_Salesrange_min\",\n      \"properties\": {\n        \"dtype\": \"number\",\n        \"std\": 72629819869.51312,\n        \"min\": 0.0,\n        \"max\": 974000000000.0,\n        \"num_unique_values\": 667,\n        \"samples\": [\n          717000.0,\n          4050000.0,\n          5840000.0\n        ],\n        \"semantic_type\": \"\",\n        \"description\": \"\"\n      }\n    },\n    {\n      \"column\": \"Estimated_Salesrange_max\",\n      \"properties\": {\n        \"dtype\": \"number\",\n        \"std\": 48848462878.58676,\n        \"min\": 0.0,\n        \"max\": 988000000000.0,\n        \"num_unique_values\": 671,\n        \"samples\": [\n          4780000.0,\n          2620000.0,\n          1030000.0\n        ],\n        \"semantic_type\": \"\",\n        \"description\": \"\"\n      }\n    },\n    {\n      \"column\": \"Company_Adj\",\n      \"properties\": {\n        \"dtype\": \"category\",\n        \"num_unique_values\": 12,\n        \"samples\": [\n          \"PayPal\",\n          \"Intel\",\n          \"Apple\"\n        ],\n        \"semantic_type\": \"\",\n        \"description\": \"\"\n      }\n    }\n  ]\n}",
       "type": "dataframe",
       "variable_name": "redfin_df"
      },
      "text/html": [
       "\n",
       "  <div id=\"df-263094e5-9457-46b9-8c59-f079303ddc5a\" class=\"colab-df-container\">\n",
       "    <div>\n",
       "<style scoped>\n",
       "    .dataframe tbody tr th:only-of-type {\n",
       "        vertical-align: middle;\n",
       "    }\n",
       "\n",
       "    .dataframe tbody tr th {\n",
       "        vertical-align: top;\n",
       "    }\n",
       "\n",
       "    .dataframe thead th {\n",
       "        text-align: right;\n",
       "    }\n",
       "</style>\n",
       "<table border=\"1\" class=\"dataframe\">\n",
       "  <thead>\n",
       "    <tr style=\"text-align: right;\">\n",
       "      <th></th>\n",
       "      <th>Estimated_market_value</th>\n",
       "      <th>Selling_Price</th>\n",
       "      <th>Estimated_Rental_Value</th>\n",
       "      <th>Zipcode</th>\n",
       "      <th>Beds</th>\n",
       "      <th>Bathrooms</th>\n",
       "      <th>Square_Feet</th>\n",
       "      <th>Address</th>\n",
       "      <th>Year_Built</th>\n",
       "      <th>Lot_Size</th>\n",
       "      <th>Parking_Spaces</th>\n",
       "      <th>Walk_Score</th>\n",
       "      <th>Estimated_Salesrange_min</th>\n",
       "      <th>Estimated_Salesrange_max</th>\n",
       "      <th>Company_Adj</th>\n",
       "    </tr>\n",
       "  </thead>\n",
       "  <tbody>\n",
       "    <tr>\n",
       "      <th>0</th>\n",
       "      <td>2260062</td>\n",
       "      <td>1950000</td>\n",
       "      <td>5263.43</td>\n",
       "      <td>95070</td>\n",
       "      <td>3</td>\n",
       "      <td>2.0</td>\n",
       "      <td>1249</td>\n",
       "      <td>10612 Gascoigne Dr</td>\n",
       "      <td>1955</td>\n",
       "      <td>5073</td>\n",
       "      <td>1</td>\n",
       "      <td>22</td>\n",
       "      <td>2150000.0</td>\n",
       "      <td>2550000.0</td>\n",
       "      <td>Apple</td>\n",
       "    </tr>\n",
       "    <tr>\n",
       "      <th>1</th>\n",
       "      <td>1723047</td>\n",
       "      <td>1850000</td>\n",
       "      <td>4115.00</td>\n",
       "      <td>95070</td>\n",
       "      <td>3</td>\n",
       "      <td>2.5</td>\n",
       "      <td>1598</td>\n",
       "      <td>20579 Cedarbrook Ter</td>\n",
       "      <td>1977</td>\n",
       "      <td>2133</td>\n",
       "      <td>2</td>\n",
       "      <td>57</td>\n",
       "      <td>1640000.0</td>\n",
       "      <td>1950000.0</td>\n",
       "      <td>Apple</td>\n",
       "    </tr>\n",
       "    <tr>\n",
       "      <th>2</th>\n",
       "      <td>1629260</td>\n",
       "      <td>1685000</td>\n",
       "      <td>5374.13</td>\n",
       "      <td>95014</td>\n",
       "      <td>3</td>\n",
       "      <td>2.0</td>\n",
       "      <td>1487</td>\n",
       "      <td>20239 Northwest Sq</td>\n",
       "      <td>1973</td>\n",
       "      <td>1344</td>\n",
       "      <td>2</td>\n",
       "      <td>64</td>\n",
       "      <td>1550000.0</td>\n",
       "      <td>1840000.0</td>\n",
       "      <td>Apple</td>\n",
       "    </tr>\n",
       "    <tr>\n",
       "      <th>3</th>\n",
       "      <td>1813091</td>\n",
       "      <td>1830000</td>\n",
       "      <td>4848.10</td>\n",
       "      <td>94024</td>\n",
       "      <td>3</td>\n",
       "      <td>2.5</td>\n",
       "      <td>1670</td>\n",
       "      <td>10280 Park Green Ln #850</td>\n",
       "      <td>2006</td>\n",
       "      <td>984</td>\n",
       "      <td>2</td>\n",
       "      <td>84</td>\n",
       "      <td>1720000.0</td>\n",
       "      <td>2050000.0</td>\n",
       "      <td>Alphabet</td>\n",
       "    </tr>\n",
       "    <tr>\n",
       "      <th>4</th>\n",
       "      <td>1163353</td>\n",
       "      <td>1090000</td>\n",
       "      <td>3407.00</td>\n",
       "      <td>95015</td>\n",
       "      <td>3</td>\n",
       "      <td>2.0</td>\n",
       "      <td>1491</td>\n",
       "      <td>10090 Pasadena Ave Unit A4</td>\n",
       "      <td>1985</td>\n",
       "      <td>38577.88</td>\n",
       "      <td>1</td>\n",
       "      <td>73</td>\n",
       "      <td>1110000.0</td>\n",
       "      <td>1320000.0</td>\n",
       "      <td>Apple</td>\n",
       "    </tr>\n",
       "    <tr>\n",
       "      <th>...</th>\n",
       "      <td>...</td>\n",
       "      <td>...</td>\n",
       "      <td>...</td>\n",
       "      <td>...</td>\n",
       "      <td>...</td>\n",
       "      <td>...</td>\n",
       "      <td>...</td>\n",
       "      <td>...</td>\n",
       "      <td>...</td>\n",
       "      <td>...</td>\n",
       "      <td>...</td>\n",
       "      <td>...</td>\n",
       "      <td>...</td>\n",
       "      <td>...</td>\n",
       "      <td>...</td>\n",
       "    </tr>\n",
       "    <tr>\n",
       "      <th>3740</th>\n",
       "      <td>0</td>\n",
       "      <td>965000</td>\n",
       "      <td>3233.00</td>\n",
       "      <td>94134</td>\n",
       "      <td>0</td>\n",
       "      <td>1.0</td>\n",
       "      <td>1135</td>\n",
       "      <td>250 Arleta Ave,San Francisco, CA 94134</td>\n",
       "      <td>1944</td>\n",
       "      <td>2495</td>\n",
       "      <td>0</td>\n",
       "      <td>73</td>\n",
       "      <td>847000.0</td>\n",
       "      <td>1010000.0</td>\n",
       "      <td>Salesforce</td>\n",
       "    </tr>\n",
       "    <tr>\n",
       "      <th>3741</th>\n",
       "      <td>1408379</td>\n",
       "      <td>1290000</td>\n",
       "      <td>4727.00</td>\n",
       "      <td>94134</td>\n",
       "      <td>0</td>\n",
       "      <td>2.0</td>\n",
       "      <td>890</td>\n",
       "      <td>518 Brussels St,San Francisco, CA 94134</td>\n",
       "      <td>1963</td>\n",
       "      <td>2247</td>\n",
       "      <td>0</td>\n",
       "      <td>88</td>\n",
       "      <td>1340000.0</td>\n",
       "      <td>1590000.0</td>\n",
       "      <td>Salesforce</td>\n",
       "    </tr>\n",
       "    <tr>\n",
       "      <th>3742</th>\n",
       "      <td>1042758</td>\n",
       "      <td>937000</td>\n",
       "      <td>3491.00</td>\n",
       "      <td>94124</td>\n",
       "      <td>2</td>\n",
       "      <td>1.0</td>\n",
       "      <td>819</td>\n",
       "      <td>1754 Revere Ave,San Francisco, CA 94124</td>\n",
       "      <td>1927</td>\n",
       "      <td>2495</td>\n",
       "      <td>0</td>\n",
       "      <td>90</td>\n",
       "      <td>991000.0</td>\n",
       "      <td>1180000.0</td>\n",
       "      <td>X (fka Twitter)</td>\n",
       "    </tr>\n",
       "    <tr>\n",
       "      <th>3743</th>\n",
       "      <td>0</td>\n",
       "      <td>1260000</td>\n",
       "      <td>4173.00</td>\n",
       "      <td>94124</td>\n",
       "      <td>3</td>\n",
       "      <td>2.0</td>\n",
       "      <td>0</td>\n",
       "      <td>1420 Hudson Ave,San Francisco, CA 94124</td>\n",
       "      <td>1964</td>\n",
       "      <td>2495</td>\n",
       "      <td>0</td>\n",
       "      <td>81</td>\n",
       "      <td>1160000.0</td>\n",
       "      <td>1380000.0</td>\n",
       "      <td>X (fka Twitter)</td>\n",
       "    </tr>\n",
       "    <tr>\n",
       "      <th>3744</th>\n",
       "      <td>0</td>\n",
       "      <td>1020000</td>\n",
       "      <td>4210.00</td>\n",
       "      <td>94134</td>\n",
       "      <td>0</td>\n",
       "      <td>2.0</td>\n",
       "      <td>840</td>\n",
       "      <td>327 Elliot,San Francisco, CA 94134</td>\n",
       "      <td>1950</td>\n",
       "      <td>1873</td>\n",
       "      <td>0</td>\n",
       "      <td>38</td>\n",
       "      <td>1200000.0</td>\n",
       "      <td>1430000.0</td>\n",
       "      <td>Salesforce</td>\n",
       "    </tr>\n",
       "  </tbody>\n",
       "</table>\n",
       "<p>3745 rows × 15 columns</p>\n",
       "</div>\n",
       "    <div class=\"colab-df-buttons\">\n",
       "\n",
       "  <div class=\"colab-df-container\">\n",
       "    <button class=\"colab-df-convert\" onclick=\"convertToInteractive('df-263094e5-9457-46b9-8c59-f079303ddc5a')\"\n",
       "            title=\"Convert this dataframe to an interactive table.\"\n",
       "            style=\"display:none;\">\n",
       "\n",
       "  <svg xmlns=\"http://www.w3.org/2000/svg\" height=\"24px\" viewBox=\"0 -960 960 960\">\n",
       "    <path d=\"M120-120v-720h720v720H120Zm60-500h600v-160H180v160Zm220 220h160v-160H400v160Zm0 220h160v-160H400v160ZM180-400h160v-160H180v160Zm440 0h160v-160H620v160ZM180-180h160v-160H180v160Zm440 0h160v-160H620v160Z\"/>\n",
       "  </svg>\n",
       "    </button>\n",
       "\n",
       "  <style>\n",
       "    .colab-df-container {\n",
       "      display:flex;\n",
       "      gap: 12px;\n",
       "    }\n",
       "\n",
       "    .colab-df-convert {\n",
       "      background-color: #E8F0FE;\n",
       "      border: none;\n",
       "      border-radius: 50%;\n",
       "      cursor: pointer;\n",
       "      display: none;\n",
       "      fill: #1967D2;\n",
       "      height: 32px;\n",
       "      padding: 0 0 0 0;\n",
       "      width: 32px;\n",
       "    }\n",
       "\n",
       "    .colab-df-convert:hover {\n",
       "      background-color: #E2EBFA;\n",
       "      box-shadow: 0px 1px 2px rgba(60, 64, 67, 0.3), 0px 1px 3px 1px rgba(60, 64, 67, 0.15);\n",
       "      fill: #174EA6;\n",
       "    }\n",
       "\n",
       "    .colab-df-buttons div {\n",
       "      margin-bottom: 4px;\n",
       "    }\n",
       "\n",
       "    [theme=dark] .colab-df-convert {\n",
       "      background-color: #3B4455;\n",
       "      fill: #D2E3FC;\n",
       "    }\n",
       "\n",
       "    [theme=dark] .colab-df-convert:hover {\n",
       "      background-color: #434B5C;\n",
       "      box-shadow: 0px 1px 3px 1px rgba(0, 0, 0, 0.15);\n",
       "      filter: drop-shadow(0px 1px 2px rgba(0, 0, 0, 0.3));\n",
       "      fill: #FFFFFF;\n",
       "    }\n",
       "  </style>\n",
       "\n",
       "    <script>\n",
       "      const buttonEl =\n",
       "        document.querySelector('#df-263094e5-9457-46b9-8c59-f079303ddc5a button.colab-df-convert');\n",
       "      buttonEl.style.display =\n",
       "        google.colab.kernel.accessAllowed ? 'block' : 'none';\n",
       "\n",
       "      async function convertToInteractive(key) {\n",
       "        const element = document.querySelector('#df-263094e5-9457-46b9-8c59-f079303ddc5a');\n",
       "        const dataTable =\n",
       "          await google.colab.kernel.invokeFunction('convertToInteractive',\n",
       "                                                    [key], {});\n",
       "        if (!dataTable) return;\n",
       "\n",
       "        const docLinkHtml = 'Like what you see? Visit the ' +\n",
       "          '<a target=\"_blank\" href=https://colab.research.google.com/notebooks/data_table.ipynb>data table notebook</a>'\n",
       "          + ' to learn more about interactive tables.';\n",
       "        element.innerHTML = '';\n",
       "        dataTable['output_type'] = 'display_data';\n",
       "        await google.colab.output.renderOutput(dataTable, element);\n",
       "        const docLink = document.createElement('div');\n",
       "        docLink.innerHTML = docLinkHtml;\n",
       "        element.appendChild(docLink);\n",
       "      }\n",
       "    </script>\n",
       "  </div>\n",
       "\n",
       "\n",
       "<div id=\"df-dbd30d03-7e99-4e45-b37c-9732abd038fd\">\n",
       "  <button class=\"colab-df-quickchart\" onclick=\"quickchart('df-dbd30d03-7e99-4e45-b37c-9732abd038fd')\"\n",
       "            title=\"Suggest charts\"\n",
       "            style=\"display:none;\">\n",
       "\n",
       "<svg xmlns=\"http://www.w3.org/2000/svg\" height=\"24px\"viewBox=\"0 0 24 24\"\n",
       "     width=\"24px\">\n",
       "    <g>\n",
       "        <path d=\"M19 3H5c-1.1 0-2 .9-2 2v14c0 1.1.9 2 2 2h14c1.1 0 2-.9 2-2V5c0-1.1-.9-2-2-2zM9 17H7v-7h2v7zm4 0h-2V7h2v10zm4 0h-2v-4h2v4z\"/>\n",
       "    </g>\n",
       "</svg>\n",
       "  </button>\n",
       "\n",
       "<style>\n",
       "  .colab-df-quickchart {\n",
       "      --bg-color: #E8F0FE;\n",
       "      --fill-color: #1967D2;\n",
       "      --hover-bg-color: #E2EBFA;\n",
       "      --hover-fill-color: #174EA6;\n",
       "      --disabled-fill-color: #AAA;\n",
       "      --disabled-bg-color: #DDD;\n",
       "  }\n",
       "\n",
       "  [theme=dark] .colab-df-quickchart {\n",
       "      --bg-color: #3B4455;\n",
       "      --fill-color: #D2E3FC;\n",
       "      --hover-bg-color: #434B5C;\n",
       "      --hover-fill-color: #FFFFFF;\n",
       "      --disabled-bg-color: #3B4455;\n",
       "      --disabled-fill-color: #666;\n",
       "  }\n",
       "\n",
       "  .colab-df-quickchart {\n",
       "    background-color: var(--bg-color);\n",
       "    border: none;\n",
       "    border-radius: 50%;\n",
       "    cursor: pointer;\n",
       "    display: none;\n",
       "    fill: var(--fill-color);\n",
       "    height: 32px;\n",
       "    padding: 0;\n",
       "    width: 32px;\n",
       "  }\n",
       "\n",
       "  .colab-df-quickchart:hover {\n",
       "    background-color: var(--hover-bg-color);\n",
       "    box-shadow: 0 1px 2px rgba(60, 64, 67, 0.3), 0 1px 3px 1px rgba(60, 64, 67, 0.15);\n",
       "    fill: var(--button-hover-fill-color);\n",
       "  }\n",
       "\n",
       "  .colab-df-quickchart-complete:disabled,\n",
       "  .colab-df-quickchart-complete:disabled:hover {\n",
       "    background-color: var(--disabled-bg-color);\n",
       "    fill: var(--disabled-fill-color);\n",
       "    box-shadow: none;\n",
       "  }\n",
       "\n",
       "  .colab-df-spinner {\n",
       "    border: 2px solid var(--fill-color);\n",
       "    border-color: transparent;\n",
       "    border-bottom-color: var(--fill-color);\n",
       "    animation:\n",
       "      spin 1s steps(1) infinite;\n",
       "  }\n",
       "\n",
       "  @keyframes spin {\n",
       "    0% {\n",
       "      border-color: transparent;\n",
       "      border-bottom-color: var(--fill-color);\n",
       "      border-left-color: var(--fill-color);\n",
       "    }\n",
       "    20% {\n",
       "      border-color: transparent;\n",
       "      border-left-color: var(--fill-color);\n",
       "      border-top-color: var(--fill-color);\n",
       "    }\n",
       "    30% {\n",
       "      border-color: transparent;\n",
       "      border-left-color: var(--fill-color);\n",
       "      border-top-color: var(--fill-color);\n",
       "      border-right-color: var(--fill-color);\n",
       "    }\n",
       "    40% {\n",
       "      border-color: transparent;\n",
       "      border-right-color: var(--fill-color);\n",
       "      border-top-color: var(--fill-color);\n",
       "    }\n",
       "    60% {\n",
       "      border-color: transparent;\n",
       "      border-right-color: var(--fill-color);\n",
       "    }\n",
       "    80% {\n",
       "      border-color: transparent;\n",
       "      border-right-color: var(--fill-color);\n",
       "      border-bottom-color: var(--fill-color);\n",
       "    }\n",
       "    90% {\n",
       "      border-color: transparent;\n",
       "      border-bottom-color: var(--fill-color);\n",
       "    }\n",
       "  }\n",
       "</style>\n",
       "\n",
       "  <script>\n",
       "    async function quickchart(key) {\n",
       "      const quickchartButtonEl =\n",
       "        document.querySelector('#' + key + ' button');\n",
       "      quickchartButtonEl.disabled = true;  // To prevent multiple clicks.\n",
       "      quickchartButtonEl.classList.add('colab-df-spinner');\n",
       "      try {\n",
       "        const charts = await google.colab.kernel.invokeFunction(\n",
       "            'suggestCharts', [key], {});\n",
       "      } catch (error) {\n",
       "        console.error('Error during call to suggestCharts:', error);\n",
       "      }\n",
       "      quickchartButtonEl.classList.remove('colab-df-spinner');\n",
       "      quickchartButtonEl.classList.add('colab-df-quickchart-complete');\n",
       "    }\n",
       "    (() => {\n",
       "      let quickchartButtonEl =\n",
       "        document.querySelector('#df-dbd30d03-7e99-4e45-b37c-9732abd038fd button');\n",
       "      quickchartButtonEl.style.display =\n",
       "        google.colab.kernel.accessAllowed ? 'block' : 'none';\n",
       "    })();\n",
       "  </script>\n",
       "</div>\n",
       "\n",
       "  <div id=\"id_5944bbb1-7692-43a5-aabc-d96d43aea6f8\">\n",
       "    <style>\n",
       "      .colab-df-generate {\n",
       "        background-color: #E8F0FE;\n",
       "        border: none;\n",
       "        border-radius: 50%;\n",
       "        cursor: pointer;\n",
       "        display: none;\n",
       "        fill: #1967D2;\n",
       "        height: 32px;\n",
       "        padding: 0 0 0 0;\n",
       "        width: 32px;\n",
       "      }\n",
       "\n",
       "      .colab-df-generate:hover {\n",
       "        background-color: #E2EBFA;\n",
       "        box-shadow: 0px 1px 2px rgba(60, 64, 67, 0.3), 0px 1px 3px 1px rgba(60, 64, 67, 0.15);\n",
       "        fill: #174EA6;\n",
       "      }\n",
       "\n",
       "      [theme=dark] .colab-df-generate {\n",
       "        background-color: #3B4455;\n",
       "        fill: #D2E3FC;\n",
       "      }\n",
       "\n",
       "      [theme=dark] .colab-df-generate:hover {\n",
       "        background-color: #434B5C;\n",
       "        box-shadow: 0px 1px 3px 1px rgba(0, 0, 0, 0.15);\n",
       "        filter: drop-shadow(0px 1px 2px rgba(0, 0, 0, 0.3));\n",
       "        fill: #FFFFFF;\n",
       "      }\n",
       "    </style>\n",
       "    <button class=\"colab-df-generate\" onclick=\"generateWithVariable('redfin_df')\"\n",
       "            title=\"Generate code using this dataframe.\"\n",
       "            style=\"display:none;\">\n",
       "\n",
       "  <svg xmlns=\"http://www.w3.org/2000/svg\" height=\"24px\"viewBox=\"0 0 24 24\"\n",
       "       width=\"24px\">\n",
       "    <path d=\"M7,19H8.4L18.45,9,17,7.55,7,17.6ZM5,21V16.75L18.45,3.32a2,2,0,0,1,2.83,0l1.4,1.43a1.91,1.91,0,0,1,.58,1.4,1.91,1.91,0,0,1-.58,1.4L9.25,21ZM18.45,9,17,7.55Zm-12,3A5.31,5.31,0,0,0,4.9,8.1,5.31,5.31,0,0,0,1,6.5,5.31,5.31,0,0,0,4.9,4.9,5.31,5.31,0,0,0,6.5,1,5.31,5.31,0,0,0,8.1,4.9,5.31,5.31,0,0,0,12,6.5,5.46,5.46,0,0,0,6.5,12Z\"/>\n",
       "  </svg>\n",
       "    </button>\n",
       "    <script>\n",
       "      (() => {\n",
       "      const buttonEl =\n",
       "        document.querySelector('#id_5944bbb1-7692-43a5-aabc-d96d43aea6f8 button.colab-df-generate');\n",
       "      buttonEl.style.display =\n",
       "        google.colab.kernel.accessAllowed ? 'block' : 'none';\n",
       "\n",
       "      buttonEl.onclick = () => {\n",
       "        google.colab.notebook.generateWithVariable('redfin_df');\n",
       "      }\n",
       "      })();\n",
       "    </script>\n",
       "  </div>\n",
       "\n",
       "    </div>\n",
       "  </div>\n"
      ],
      "text/plain": [
       "      Estimated_market_value  Selling_Price  Estimated_Rental_Value  Zipcode  \\\n",
       "0                    2260062        1950000                 5263.43    95070   \n",
       "1                    1723047        1850000                 4115.00    95070   \n",
       "2                    1629260        1685000                 5374.13    95014   \n",
       "3                    1813091        1830000                 4848.10    94024   \n",
       "4                    1163353        1090000                 3407.00    95015   \n",
       "...                      ...            ...                     ...      ...   \n",
       "3740                       0         965000                 3233.00    94134   \n",
       "3741                 1408379        1290000                 4727.00    94134   \n",
       "3742                 1042758         937000                 3491.00    94124   \n",
       "3743                       0        1260000                 4173.00    94124   \n",
       "3744                       0        1020000                 4210.00    94134   \n",
       "\n",
       "      Beds  Bathrooms  Square_Feet                                  Address  \\\n",
       "0        3        2.0         1249                       10612 Gascoigne Dr   \n",
       "1        3        2.5         1598                     20579 Cedarbrook Ter   \n",
       "2        3        2.0         1487                       20239 Northwest Sq   \n",
       "3        3        2.5         1670                 10280 Park Green Ln #850   \n",
       "4        3        2.0         1491               10090 Pasadena Ave Unit A4   \n",
       "...    ...        ...          ...                                      ...   \n",
       "3740     0        1.0         1135   250 Arleta Ave,San Francisco, CA 94134   \n",
       "3741     0        2.0          890  518 Brussels St,San Francisco, CA 94134   \n",
       "3742     2        1.0          819  1754 Revere Ave,San Francisco, CA 94124   \n",
       "3743     3        2.0            0  1420 Hudson Ave,San Francisco, CA 94124   \n",
       "3744     0        2.0          840       327 Elliot,San Francisco, CA 94134   \n",
       "\n",
       "     Year_Built  Lot_Size  Parking_Spaces  Walk_Score  \\\n",
       "0          1955      5073               1          22   \n",
       "1          1977      2133               2          57   \n",
       "2          1973      1344               2          64   \n",
       "3          2006       984               2          84   \n",
       "4          1985  38577.88               1          73   \n",
       "...         ...       ...             ...         ...   \n",
       "3740       1944      2495               0          73   \n",
       "3741       1963      2247               0          88   \n",
       "3742       1927      2495               0          90   \n",
       "3743       1964      2495               0          81   \n",
       "3744       1950      1873               0          38   \n",
       "\n",
       "      Estimated_Salesrange_min  Estimated_Salesrange_max      Company_Adj  \n",
       "0                    2150000.0                 2550000.0            Apple  \n",
       "1                    1640000.0                 1950000.0            Apple  \n",
       "2                    1550000.0                 1840000.0            Apple  \n",
       "3                    1720000.0                 2050000.0         Alphabet  \n",
       "4                    1110000.0                 1320000.0            Apple  \n",
       "...                        ...                       ...              ...  \n",
       "3740                  847000.0                 1010000.0       Salesforce  \n",
       "3741                 1340000.0                 1590000.0       Salesforce  \n",
       "3742                  991000.0                 1180000.0  X (fka Twitter)  \n",
       "3743                 1160000.0                 1380000.0  X (fka Twitter)  \n",
       "3744                 1200000.0                 1430000.0       Salesforce  \n",
       "\n",
       "[3745 rows x 15 columns]"
      ]
     },
     "execution_count": 34,
     "metadata": {},
     "output_type": "execute_result"
    }
   ],
   "source": [
    "redfin_df = redfin_df.dropna(axis=1) #dropping columns that have NaN\n",
    "redfin_df"
   ]
  },
  {
   "cell_type": "code",
   "execution_count": 35,
   "id": "lehEoOOvARn2",
   "metadata": {
    "colab": {
     "base_uri": "https://localhost:8080/"
    },
    "id": "lehEoOOvARn2",
    "outputId": "96b1244c-39d1-4afd-e878-97a5a35534f9"
   },
   "outputs": [
    {
     "name": "stdout",
     "output_type": "stream",
     "text": [
      "'Estimated_market_value'\n",
      "'Selling_Price'\n",
      "'Estimated_Rental_Value'\n",
      "'Zipcode'\n",
      "'Beds'\n",
      "'Bathrooms'\n",
      "'Square_Feet'\n",
      "'Address'\n",
      "'Year_Built'\n",
      "'Lot_Size'\n",
      "'Parking_Spaces'\n",
      "'Walk_Score'\n",
      "'Estimated_Salesrange_min'\n",
      "'Estimated_Salesrange_max'\n",
      "'Company_Adj'\n"
     ]
    }
   ],
   "source": [
    "for col in redfin_df.columns:\n",
    "    print(f\"'{col}'\")"
   ]
  },
  {
   "cell_type": "code",
   "execution_count": 36,
   "id": "cd933e9f-ef44-49f7-a213-6798f1eeec98",
   "metadata": {
    "colab": {
     "base_uri": "https://localhost:8080/"
    },
    "id": "cd933e9f-ef44-49f7-a213-6798f1eeec98",
    "outputId": "3ee9b4d7-12ed-44ce-d29a-579685d26bf1"
   },
   "outputs": [
    {
     "data": {
      "text/plain": [
       "3745"
      ]
     },
     "execution_count": 36,
     "metadata": {},
     "output_type": "execute_result"
    }
   ],
   "source": [
    "values = [30]# remove the rows for bedrooms that are not equal to 3\n",
    "redfin_df = redfin_df[~redfin_df['Beds'].isin(values)]\n",
    "#redfin_df = redfin_df[redfin_df.Beds.isin(values) == False]\n",
    "redfin_df = redfin_df.reset_index(drop=True)\n",
    "redfin_df\n",
    "redfin_df.shape[0]"
   ]
  },
  {
   "cell_type": "code",
   "execution_count": 37,
   "id": "147f54da-0366-40a7-8f61-292b60b4f43d",
   "metadata": {
    "colab": {
     "base_uri": "https://localhost:8080/"
    },
    "id": "147f54da-0366-40a7-8f61-292b60b4f43d",
    "outputId": "211bd306-6373-4ed6-e1b1-0f7a03b0d36f"
   },
   "outputs": [
    {
     "data": {
      "text/plain": [
       "Index(['Estimated_market_value', 'Selling_Price', 'Estimated_Rental_Value',\n",
       "       'Zipcode', 'Beds', 'Bathrooms', 'Square_Feet', 'Address', 'Year_Built',\n",
       "       'Lot_Size', 'Parking_Spaces', 'Walk_Score', 'Estimated_Salesrange_min',\n",
       "       'Estimated_Salesrange_max', 'Company_Adj'],\n",
       "      dtype='object')"
      ]
     },
     "execution_count": 37,
     "metadata": {},
     "output_type": "execute_result"
    }
   ],
   "source": [
    "redfin_df.columns"
   ]
  },
  {
   "cell_type": "code",
   "execution_count": 38,
   "id": "1b1090af-7881-4869-a0b4-d044877965e4",
   "metadata": {
    "colab": {
     "base_uri": "https://localhost:8080/"
    },
    "id": "1b1090af-7881-4869-a0b4-d044877965e4",
    "outputId": "03a85103-7357-4948-a827-651bba0d88d7"
   },
   "outputs": [
    {
     "name": "stdout",
     "output_type": "stream",
     "text": [
      "                            OLS Regression Results                            \n",
      "==============================================================================\n",
      "Dep. Variable:          Selling_Price   R-squared:                       0.247\n",
      "Model:                            OLS   Adj. R-squared:                  0.245\n",
      "Method:                 Least Squares   F-statistic:                     111.5\n",
      "Date:                Fri, 06 Dec 2024   Prob (F-statistic):          8.88e-221\n",
      "Time:                        05:10:59   Log-Likelihood:                -59519.\n",
      "No. Observations:                3745   AIC:                         1.191e+05\n",
      "Df Residuals:                    3733   BIC:                         1.191e+05\n",
      "Df Model:                          11                                         \n",
      "Covariance Type:            nonrobust                                         \n",
      "==================================================================================================\n",
      "                                     coef    std err          t      P>|t|      [0.025      0.975]\n",
      "--------------------------------------------------------------------------------------------------\n",
      "Intercept                       1.605e+06   1.41e+05     11.341      0.000    1.33e+06    1.88e+06\n",
      "Company_Adj[T.Alphabet]         1.071e+06   1.62e+05      6.610      0.000    7.53e+05    1.39e+06\n",
      "Company_Adj[T.Apple]            1.414e+06   1.79e+05      7.918      0.000    1.06e+06    1.76e+06\n",
      "Company_Adj[T.Intel]             7.19e+05   4.36e+05      1.649      0.099   -1.36e+05    1.57e+06\n",
      "Company_Adj[T.Meta]             3.879e+06   1.72e+05     22.494      0.000    3.54e+06    4.22e+06\n",
      "Company_Adj[T.Netflix]          4.147e+05   1.52e+05      2.722      0.007    1.16e+05    7.13e+05\n",
      "Company_Adj[T.Nvidia]           1.104e+06   2.14e+05      5.157      0.000    6.84e+05    1.52e+06\n",
      "Company_Adj[T.PayPal]          -3.872e+05   1.99e+05     -1.948      0.051   -7.77e+05    2516.553\n",
      "Company_Adj[T.Salesforce]       4.509e+05   1.95e+05      2.312      0.021    6.86e+04    8.33e+05\n",
      "Company_Adj[T.ServiceNow]      -2.872e+05   7.45e+05     -0.386      0.700   -1.75e+06    1.17e+06\n",
      "Company_Adj[T.Workday]          5.216e+05   1.81e+05      2.886      0.004    1.67e+05    8.76e+05\n",
      "Company_Adj[T.X (fka Twitter)] -1.312e+05   1.94e+05     -0.677      0.498   -5.11e+05    2.49e+05\n",
      "==============================================================================\n",
      "Omnibus:                     4558.831   Durbin-Watson:                   1.227\n",
      "Prob(Omnibus):                  0.000   Jarque-Bera (JB):           794004.245\n",
      "Skew:                           6.391   Prob(JB):                         0.00\n",
      "Kurtosis:                      73.178   Cond. No.                         25.8\n",
      "==============================================================================\n",
      "\n",
      "Notes:\n",
      "[1] Standard Errors assume that the covariance matrix of the errors is correctly specified.\n"
     ]
    }
   ],
   "source": [
    "formula = 'Selling_Price ~ Company_Adj' # Regression to see the correlation between selling price and Company_Adj\n",
    "redfin_lm = sm.ols(formula=formula, data=redfin_df).fit()\n",
    "summary_table = redfin_lm.summary()\n",
    "print(redfin_lm.summary())"
   ]
  },
  {
   "cell_type": "markdown",
   "id": "86e5abaf-fe35-4d6e-86d0-0393c143349b",
   "metadata": {
    "id": "86e5abaf-fe35-4d6e-86d0-0393c143349b"
   },
   "source": [
    "From the OLS regression results, the model as a whole is statistically significant. Meaning there's a relationship between\n",
    "the independent variable, 'Company_Adj', and the dependent variable, 'Selling_Price'. OLS was only used to see how the different categories of 'Company_Adj' affects the selling price."
   ]
  },
  {
   "cell_type": "code",
   "execution_count": 39,
   "id": "7hw8FxnZ8k3s",
   "metadata": {
    "colab": {
     "base_uri": "https://localhost:8080/",
     "height": 860
    },
    "id": "7hw8FxnZ8k3s",
    "outputId": "6d577015-c9eb-4311-d8e1-8a83760cfa12"
   },
   "outputs": [
    {
     "data": {
      "image/png": "[encoded data removed]",
      "text/plain": [
       "<Figure size 1400x800 with 2 Axes>"
      ]
     },
     "metadata": {},
     "output_type": "display_data"
    }
   ],
   "source": [
    "numeric_df = redfin_df.select_dtypes(include=['number'])\n",
    "\n",
    "# Compute the correlation matrix\n",
    "corr = numeric_df.corr()\n",
    "\n",
    "# Plot the heatmap\n",
    "fig, ax = plt.subplots()\n",
    "fig.set_size_inches(14, 8)\n",
    "sns.heatmap(corr, annot=True, fmt=\".1f\", cmap=\"RdBu\", center=0, ax=ax)\n",
    "\n",
    "plt.show()"
   ]
  },
  {
   "cell_type": "markdown",
   "id": "e3f132fd-b150-4e2d-b15f-65d7b074a682",
   "metadata": {
    "id": "e3f132fd-b150-4e2d-b15f-65d7b074a682"
   },
   "source": [
    "### Gradient Boosting - XGBoost"
   ]
  },
  {
   "cell_type": "code",
   "execution_count": 44,
   "id": "529a1da4-b05a-4506-bb44-a8b44c8234d7",
   "metadata": {
    "id": "529a1da4-b05a-4506-bb44-a8b44c8234d7"
   },
   "outputs": [],
   "source": [
    "import xgboost as xgb\n",
    "from xgboost import XGBRegressor\n",
    "from sklearn.model_selection import train_test_split\n",
    "from sklearn.metrics import mean_squared_error, r2_score"
   ]
  },
  {
   "cell_type": "code",
   "execution_count": 45,
   "id": "b636dfc9-7895-41de-bd03-bfd4386680b2",
   "metadata": {
    "colab": {
     "base_uri": "https://localhost:8080/"
    },
    "id": "b636dfc9-7895-41de-bd03-bfd4386680b2",
    "outputId": "3cb5946a-0ee8-4ef3-f412-9911b7f95e5b"
   },
   "outputs": [
    {
     "data": {
      "text/plain": [
       "3745"
      ]
     },
     "execution_count": 45,
     "metadata": {},
     "output_type": "execute_result"
    }
   ],
   "source": [
    "redfin_df = pd.read_excel('/Combined_Data.xlsx')\n",
    "redfin_df = redfin_df.dropna(subset=['Company_Adj'])\n",
    "redfin_df = redfin_df.reset_index(drop=True)\n",
    "redfin_df\n",
    "redfin_df.shape[0]"
   ]
  },
  {
   "cell_type": "code",
   "execution_count": 46,
   "id": "e129a62f-6ca6-4978-a7e4-de2f7cd47d78",
   "metadata": {
    "id": "e129a62f-6ca6-4978-a7e4-de2f7cd47d78"
   },
   "outputs": [],
   "source": [
    "redfin_df = redfin_df.dropna(axis=1) #dropping columns that have NaN"
   ]
  },
  {
   "cell_type": "code",
   "execution_count": 47,
   "id": "06596197-d697-47e5-b480-88490c47d697",
   "metadata": {
    "colab": {
     "base_uri": "https://localhost:8080/"
    },
    "id": "06596197-d697-47e5-b480-88490c47d697",
    "outputId": "523e3e37-12ce-4a1f-b9d7-4a542e3f93b8"
   },
   "outputs": [
    {
     "data": {
      "text/plain": [
       "3745"
      ]
     },
     "execution_count": 47,
     "metadata": {},
     "output_type": "execute_result"
    }
   ],
   "source": [
    "values = [30]# remove the outlier\n",
    "redfin_df = redfin_df[redfin_df.Beds.isin(values) == False]\n",
    "redfin_df = redfin_df.reset_index(drop=True)\n",
    "redfin_df\n",
    "redfin_df.shape[0]"
   ]
  },
  {
   "cell_type": "code",
   "execution_count": 48,
   "id": "da580c8b-7137-4057-9e70-557a67124db3",
   "metadata": {
    "id": "da580c8b-7137-4057-9e70-557a67124db3"
   },
   "outputs": [],
   "source": [
    "#Creating the Gradient Boosting model\n",
    "from sklearn.preprocessing import StandardScaler\n",
    "predictors = ['Company_Adj', 'Beds', 'Bathrooms', 'Square_Feet','Year_Built','Lot_Size',\n",
    "              'Estimated_market_value','Estimated_Rental_Value','Estimated_Salesrange_min', 'Parking_Spaces',\n",
    "              'Walk_Score', 'Estimated_Salesrange_max']\n",
    "outcome = 'Selling_Price'\n",
    "\n",
    "# partition data\n",
    "X = pd.get_dummies(redfin_df[predictors], drop_first=True)\n",
    "y = redfin_df[outcome]\n",
    "X_train, X_test, y_train, y_test = train_test_split(X, y, test_size=0.2, random_state=42)\n",
    "\n",
    "scaler = StandardScaler()\n",
    "X_train_scaled = scaler.fit_transform(X_train)\n",
    "X_test_scaled = scaler.transform(X_test)\n",
    "\n",
    "\n",
    "model = XGBRegressor(n_estimators=100, learning_rate=0.1, max_depth=3, random_state=0)\n",
    "model.fit(X_train_scaled, y_train)\n",
    "y_pred = model.predict(X_test_scaled)"
   ]
  },
  {
   "cell_type": "code",
   "execution_count": 49,
   "id": "bce39e60-70b0-4dee-94c1-6b1216faf0ab",
   "metadata": {
    "colab": {
     "base_uri": "https://localhost:8080/"
    },
    "id": "bce39e60-70b0-4dee-94c1-6b1216faf0ab",
    "outputId": "02543dc2-e4ee-40c9-ccf1-71addf158f90"
   },
   "outputs": [
    {
     "name": "stdout",
     "output_type": "stream",
     "text": [
      "\n",
      "Regression statistics\n",
      "\n",
      "                      Mean Error (ME) : 46226.7343\n",
      "       Root Mean Squared Error (RMSE) : 1473101.0791\n",
      "            Mean Absolute Error (MAE) : 312619.1612\n",
      "          Mean Percentage Error (MPE) : -5.8371\n",
      "Mean Absolute Percentage Error (MAPE) : 12.9466\n"
     ]
    }
   ],
   "source": [
    "regressionSummary(y_test, y_pred)"
   ]
  },
  {
   "cell_type": "markdown",
   "id": "3f570d50-a796-450b-ba1a-7705d935a539",
   "metadata": {
    "id": "3f570d50-a796-450b-ba1a-7705d935a539"
   },
   "source": [
    "## Random Forest"
   ]
  },
  {
   "cell_type": "code",
   "execution_count": 50,
   "id": "83ee6d74-dc6c-492c-a7e4-567479227362",
   "metadata": {
    "id": "83ee6d74-dc6c-492c-a7e4-567479227362"
   },
   "outputs": [],
   "source": [
    "from sklearn.ensemble import RandomForestRegressor\n",
    "from sklearn.model_selection import train_test_split\n",
    "from sklearn.metrics import mean_squared_error, r2_score\n",
    "from sklearn.preprocessing import StandardScaler"
   ]
  },
  {
   "cell_type": "code",
   "execution_count": 51,
   "id": "20f9fc4c-80e9-4c16-b713-5a99f4e04c51",
   "metadata": {
    "colab": {
     "base_uri": "https://localhost:8080/"
    },
    "id": "20f9fc4c-80e9-4c16-b713-5a99f4e04c51",
    "outputId": "08ec8f81-e0d2-4929-c3a2-ee18676d3566"
   },
   "outputs": [
    {
     "data": {
      "text/plain": [
       "3745"
      ]
     },
     "execution_count": 51,
     "metadata": {},
     "output_type": "execute_result"
    }
   ],
   "source": [
    "redfin_df = pd.read_excel('/Combined_Data.xlsx')\n",
    "redfin_df = redfin_df.dropna(subset=['Company_Adj'])\n",
    "redfin_df = redfin_df.reset_index(drop=True)\n",
    "redfin_df\n",
    "redfin_df.shape[0]"
   ]
  },
  {
   "cell_type": "code",
   "execution_count": 52,
   "id": "684762f3-99b6-40e3-a919-009d08a524bc",
   "metadata": {
    "id": "684762f3-99b6-40e3-a919-009d08a524bc"
   },
   "outputs": [],
   "source": [
    "redfin_df = redfin_df.dropna(axis=1) #dropping columns that have NaN"
   ]
  },
  {
   "cell_type": "code",
   "execution_count": 53,
   "id": "460a699e-dc2d-418f-8605-711ac0cc30d9",
   "metadata": {
    "colab": {
     "base_uri": "https://localhost:8080/"
    },
    "id": "460a699e-dc2d-418f-8605-711ac0cc30d9",
    "outputId": "f9cb802c-e302-4d5f-ef34-d2cbe08222f9"
   },
   "outputs": [
    {
     "data": {
      "text/plain": [
       "3745"
      ]
     },
     "execution_count": 53,
     "metadata": {},
     "output_type": "execute_result"
    }
   ],
   "source": [
    "values = [30]# remove the outlier\n",
    "redfin_df = redfin_df[redfin_df.Beds.isin(values) == False]\n",
    "redfin_df = redfin_df.reset_index(drop=True)\n",
    "redfin_df\n",
    "redfin_df.shape[0]"
   ]
  },
  {
   "cell_type": "code",
   "execution_count": 54,
   "id": "8c71f3e7-a0c2-4390-827d-63ee8d5d2363",
   "metadata": {
    "id": "8c71f3e7-a0c2-4390-827d-63ee8d5d2363"
   },
   "outputs": [],
   "source": [
    "#Creating the model\n",
    "predictors = ['Company_Adj', 'Beds', 'Bathrooms', 'Square_Feet','Year_Built','Lot_Size',\n",
    "              'Estimated_market_value','Estimated_Rental_Value','Estimated_Salesrange_min', 'Parking_Spaces',\n",
    "              'Walk_Score', 'Estimated_Salesrange_max']\n",
    "outcome = 'Selling_Price'\n",
    "\n",
    "# partition data\n",
    "X = pd.get_dummies(redfin_df[predictors], drop_first=True)\n",
    "y = redfin_df[outcome]\n",
    "X_train, X_test, y_train, y_test = train_test_split(X, y, test_size=0.2, random_state=42)\n",
    "\n",
    "scaler = StandardScaler()\n",
    "X_train_scaled = scaler.fit_transform(X_train)\n",
    "X_test_scaled = scaler.transform(X_test)\n",
    "\n",
    "\n",
    "model = RandomForestRegressor(n_estimators=100, random_state=0)\n",
    "model.fit(X_train_scaled, y_train)\n",
    "y_pred = model.predict(X_test_scaled)"
   ]
  },
  {
   "cell_type": "code",
   "execution_count": 55,
   "id": "8c233c18-56ba-4667-aa87-899813331cc3",
   "metadata": {
    "colab": {
     "base_uri": "https://localhost:8080/"
    },
    "id": "8c233c18-56ba-4667-aa87-899813331cc3",
    "outputId": "c4964fa0-de06-4c91-fb4d-86ad559e3cc0"
   },
   "outputs": [
    {
     "name": "stdout",
     "output_type": "stream",
     "text": [
      "\n",
      "Regression statistics\n",
      "\n",
      "                      Mean Error (ME) : 46251.2017\n",
      "       Root Mean Squared Error (RMSE) : 1210496.8437\n",
      "            Mean Absolute Error (MAE) : 276093.9103\n",
      "          Mean Percentage Error (MPE) : -3.0818\n",
      "Mean Absolute Percentage Error (MAPE) : 9.9433\n"
     ]
    }
   ],
   "source": [
    "regressionSummary(y_test, y_pred)"
   ]
  },
  {
   "cell_type": "markdown",
   "id": "e5acbf5d-bddc-44a4-9345-5711d95f6491",
   "metadata": {
    "id": "e5acbf5d-bddc-44a4-9345-5711d95f6491"
   },
   "source": [
    "## Lasso Regression"
   ]
  },
  {
   "cell_type": "code",
   "execution_count": 56,
   "id": "7b1710a4-548c-4c2f-b766-33f40281c869",
   "metadata": {
    "id": "7b1710a4-548c-4c2f-b766-33f40281c869"
   },
   "outputs": [],
   "source": [
    "from sklearn.linear_model import Lasso\n",
    "from sklearn.model_selection import train_test_split\n",
    "from sklearn.metrics import mean_squared_error\n",
    "from sklearn.preprocessing import StandardScaler"
   ]
  },
  {
   "cell_type": "code",
   "execution_count": 57,
   "id": "b5f7534a-3a17-4782-987d-a6e84475b550",
   "metadata": {
    "colab": {
     "base_uri": "https://localhost:8080/"
    },
    "id": "b5f7534a-3a17-4782-987d-a6e84475b550",
    "outputId": "cebb24ef-8d4e-44fd-c2b5-337b8a305de6"
   },
   "outputs": [
    {
     "data": {
      "text/plain": [
       "3745"
      ]
     },
     "execution_count": 57,
     "metadata": {},
     "output_type": "execute_result"
    }
   ],
   "source": [
    "redfin_df = pd.read_excel('/Combined_Data.xlsx')\n",
    "redfin_df = redfin_df.dropna(subset=['Company_Adj'])\n",
    "redfin_df = redfin_df.reset_index(drop=True)\n",
    "redfin_df\n",
    "redfin_df.shape[0]"
   ]
  },
  {
   "cell_type": "code",
   "execution_count": 58,
   "id": "631bfdc0-416a-4892-be9e-637e287e2c49",
   "metadata": {
    "id": "631bfdc0-416a-4892-be9e-637e287e2c49"
   },
   "outputs": [],
   "source": [
    "redfin_df = redfin_df.dropna(axis=1) #dropping columns that have NaN"
   ]
  },
  {
   "cell_type": "code",
   "execution_count": 59,
   "id": "e7701a3a-7339-45f3-bc40-188deede00be",
   "metadata": {
    "colab": {
     "base_uri": "https://localhost:8080/"
    },
    "id": "e7701a3a-7339-45f3-bc40-188deede00be",
    "outputId": "044ae8f6-4280-4347-df33-9335d2252bb3"
   },
   "outputs": [
    {
     "data": {
      "text/plain": [
       "3745"
      ]
     },
     "execution_count": 59,
     "metadata": {},
     "output_type": "execute_result"
    }
   ],
   "source": [
    "values = [30]# remove the outlier\n",
    "redfin_df = redfin_df[redfin_df.Beds.isin(values) == False]\n",
    "redfin_df = redfin_df.reset_index(drop=True)\n",
    "redfin_df\n",
    "redfin_df.shape[0]"
   ]
  },
  {
   "cell_type": "code",
   "execution_count": 60,
   "id": "28eccec8-4b7c-4628-b679-7e32d1970dc3",
   "metadata": {
    "colab": {
     "base_uri": "https://localhost:8080/"
    },
    "id": "28eccec8-4b7c-4628-b679-7e32d1970dc3",
    "outputId": "4a2230ae-2c80-4d82-be1f-8c2aeb9288d2"
   },
   "outputs": [
    {
     "name": "stderr",
     "output_type": "stream",
     "text": [
      "/usr/local/lib/python3.10/dist-packages/sklearn/linear_model/_coordinate_descent.py:697: ConvergenceWarning: Objective did not converge. You might want to increase the number of iterations, check the scale of the features or consider increasing regularisation. Duality gap: 3.982e+13, tolerance: 1.340e+12\n",
      "  model = cd_fast.enet_coordinate_descent(\n"
     ]
    }
   ],
   "source": [
    "#Creating the model\n",
    "predictors = ['Company_Adj', 'Beds', 'Bathrooms', 'Square_Feet','Year_Built','Lot_Size',\n",
    "              'Estimated_market_value','Estimated_Rental_Value','Estimated_Salesrange_min', 'Parking_Spaces',\n",
    "              'Walk_Score', 'Estimated_Salesrange_max']\n",
    "outcome = 'Selling_Price'\n",
    "\n",
    "# partition data\n",
    "X = pd.get_dummies(redfin_df[predictors], drop_first=True)\n",
    "y = redfin_df[outcome]\n",
    "X_train, X_test, y_train, y_test = train_test_split(X, y, test_size=0.2, random_state=42)\n",
    "\n",
    "scaler = StandardScaler()\n",
    "X_train_scaled = scaler.fit_transform(X_train)\n",
    "X_test_scaled = scaler.transform(X_test)\n",
    "\n",
    "\n",
    "lasso_model = Lasso(alpha=0.05, max_iter=10000)\n",
    "lasso_model.fit(X_train_scaled, y_train)\n",
    "lasso_predictions = lasso_model.predict(X_test_scaled)"
   ]
  },
  {
   "cell_type": "code",
   "execution_count": 61,
   "id": "8a296af0-9513-4a93-b2d6-ab72e0735cf3",
   "metadata": {
    "colab": {
     "base_uri": "https://localhost:8080/"
    },
    "id": "8a296af0-9513-4a93-b2d6-ab72e0735cf3",
    "outputId": "a431f1ed-1eef-40ad-b2c9-52155d9015f2"
   },
   "outputs": [
    {
     "name": "stdout",
     "output_type": "stream",
     "text": [
      "\n",
      "Regression statistics\n",
      "\n",
      "                      Mean Error (ME) : 286296.3853\n",
      "       Root Mean Squared Error (RMSE) : 2070100.5360\n",
      "            Mean Absolute Error (MAE) : 781277.5175\n",
      "          Mean Percentage Error (MPE) : 5.1283\n",
      "Mean Absolute Percentage Error (MAPE) : 31.3505\n"
     ]
    }
   ],
   "source": [
    "regressionSummary(y_test, lasso_predictions)"
   ]
  },
  {
   "cell_type": "code",
   "execution_count": 62,
   "id": "06a3ae4a-ab43-40d8-87fd-94ba0f44fc1d",
   "metadata": {
    "colab": {
     "base_uri": "https://localhost:8080/"
    },
    "id": "06a3ae4a-ab43-40d8-87fd-94ba0f44fc1d",
    "outputId": "5b6526ee-1aaa-4a44-9467-89d38c5317a2"
   },
   "outputs": [
    {
     "data": {
      "text/plain": [
       "['Company_Adj',\n",
       " 'Beds',\n",
       " 'Bathrooms',\n",
       " 'Square_Feet',\n",
       " 'Year_Built',\n",
       " 'Lot_Size',\n",
       " 'Estimated_market_value',\n",
       " 'Estimated_Rental_Value',\n",
       " 'Estimated_Salesrange_min',\n",
       " 'Parking_Spaces',\n",
       " 'Walk_Score',\n",
       " 'Estimated_Salesrange_max']"
      ]
     },
     "execution_count": 62,
     "metadata": {},
     "output_type": "execute_result"
    }
   ],
   "source": [
    "selected_features = [feature for feature, coefficient in zip(predictors, lasso_model.coef_) if coefficient != 0]\n",
    "selected_features"
   ]
  },
  {
   "cell_type": "markdown",
   "id": "874c0e1e-5a9d-4a6a-a523-bdd633e69681",
   "metadata": {
    "id": "874c0e1e-5a9d-4a6a-a523-bdd633e69681"
   },
   "source": [
    "## Ridge Regression"
   ]
  },
  {
   "cell_type": "code",
   "execution_count": 63,
   "id": "558974a1-6c0b-480c-869d-39555ac6385d",
   "metadata": {
    "id": "558974a1-6c0b-480c-869d-39555ac6385d"
   },
   "outputs": [],
   "source": [
    "from sklearn.linear_model import Ridge\n",
    "from sklearn.model_selection import train_test_split\n",
    "from sklearn.metrics import mean_squared_error\n",
    "from sklearn.preprocessing import StandardScaler"
   ]
  },
  {
   "cell_type": "code",
   "execution_count": 64,
   "id": "47fc7e9b-1ee9-4fef-b9c3-978b6c57793b",
   "metadata": {
    "colab": {
     "base_uri": "https://localhost:8080/"
    },
    "id": "47fc7e9b-1ee9-4fef-b9c3-978b6c57793b",
    "outputId": "fce1b56c-5477-4d5e-f2f6-f2ab638dbc69"
   },
   "outputs": [
    {
     "data": {
      "text/plain": [
       "3745"
      ]
     },
     "execution_count": 64,
     "metadata": {},
     "output_type": "execute_result"
    }
   ],
   "source": [
    "redfin_df = pd.read_excel('/Combined_Data.xlsx')\n",
    "redfin_df = redfin_df.dropna(subset=['Company_Adj'])\n",
    "redfin_df = redfin_df.reset_index(drop=True)\n",
    "redfin_df\n",
    "redfin_df.shape[0]"
   ]
  },
  {
   "cell_type": "code",
   "execution_count": 65,
   "id": "f25463b4-6e8b-4b0e-b8a9-8b6f14bf3a24",
   "metadata": {
    "id": "f25463b4-6e8b-4b0e-b8a9-8b6f14bf3a24"
   },
   "outputs": [],
   "source": [
    "redfin_df = redfin_df.dropna(axis=1) #dropping columns that have NaN"
   ]
  },
  {
   "cell_type": "code",
   "execution_count": 66,
   "id": "aa5525c2-b853-44a2-9e06-d57d039a62d9",
   "metadata": {
    "colab": {
     "base_uri": "https://localhost:8080/"
    },
    "id": "aa5525c2-b853-44a2-9e06-d57d039a62d9",
    "outputId": "104135ec-5b54-43c4-ab46-962253ab754f"
   },
   "outputs": [
    {
     "data": {
      "text/plain": [
       "3745"
      ]
     },
     "execution_count": 66,
     "metadata": {},
     "output_type": "execute_result"
    }
   ],
   "source": [
    "values = [30]# remove the outlier\n",
    "redfin_df = redfin_df[redfin_df.Beds.isin(values) == False]\n",
    "redfin_df = redfin_df.reset_index(drop=True)\n",
    "redfin_df\n",
    "redfin_df.shape[0]"
   ]
  },
  {
   "cell_type": "code",
   "execution_count": 67,
   "id": "6133b78f-eb30-42ca-87d1-3234b989fb13",
   "metadata": {
    "id": "6133b78f-eb30-42ca-87d1-3234b989fb13"
   },
   "outputs": [],
   "source": [
    "#Creating the model\n",
    "predictors = ['Company_Adj', 'Beds', 'Bathrooms', 'Square_Feet','Year_Built','Lot_Size',\n",
    "              'Estimated_market_value','Estimated_Rental_Value','Estimated_Salesrange_min', 'Parking_Spaces',\n",
    "              'Walk_Score', 'Estimated_Salesrange_max']\n",
    "outcome = 'Selling_Price'\n",
    "\n",
    "# partition data\n",
    "X = pd.get_dummies(redfin_df[predictors], drop_first=True)\n",
    "y = redfin_df[outcome]\n",
    "X_train, X_test, y_train, y_test = train_test_split(X, y, test_size=0.2, random_state=42)\n",
    "\n",
    "scaler = StandardScaler()\n",
    "X_train_scaled = scaler.fit_transform(X_train)\n",
    "X_test_scaled = scaler.transform(X_test)\n",
    "\n",
    "ridge_model = Ridge(alpha=10.0)\n",
    "ridge_model.fit(X_train_scaled, y_train)\n",
    "ridge_predictions = ridge_model.predict(X_test_scaled)"
   ]
  },
  {
   "cell_type": "code",
   "execution_count": 68,
   "id": "43d63615-4cab-4674-a93b-cffb6655138b",
   "metadata": {
    "colab": {
     "base_uri": "https://localhost:8080/"
    },
    "id": "43d63615-4cab-4674-a93b-cffb6655138b",
    "outputId": "fb4435bf-a115-483c-9153-a30f45d44e7e"
   },
   "outputs": [
    {
     "name": "stdout",
     "output_type": "stream",
     "text": [
      "\n",
      "Regression statistics\n",
      "\n",
      "                      Mean Error (ME) : 199796.8610\n",
      "       Root Mean Squared Error (RMSE) : 2038031.7112\n",
      "            Mean Absolute Error (MAE) : 736125.9151\n",
      "          Mean Percentage Error (MPE) : 0.4737\n",
      "Mean Absolute Percentage Error (MAPE) : 29.2065\n"
     ]
    }
   ],
   "source": [
    "regressionSummary(y_test, ridge_predictions)"
   ]
  },
  {
   "cell_type": "code",
   "execution_count": 69,
   "id": "5-vQ0FBYvO5x",
   "metadata": {
    "colab": {
     "base_uri": "https://localhost:8080/"
    },
    "id": "5-vQ0FBYvO5x",
    "outputId": "3af7e8d6-085a-4cd4-cfa8-ea5f8b99f579"
   },
   "outputs": [
    {
     "name": "stdout",
     "output_type": "stream",
     "text": [
      "KNeighborsRegressor MSE: 4123557789432.04\n",
      "\n",
      "Regression statistics\n",
      "\n",
      "                      Mean Error (ME) : 153069.1533\n",
      "       Root Mean Squared Error (RMSE) : 2030654.5224\n",
      "            Mean Absolute Error (MAE) : 754041.5255\n",
      "          Mean Percentage Error (MPE) : -11.9109\n",
      "Mean Absolute Percentage Error (MAPE) : 30.3937\n"
     ]
    }
   ],
   "source": [
    "# KNeighbors Regressor\n",
    "# KNeighborsRegressor\n",
    "from sklearn.neighbors import KNeighborsRegressor\n",
    "from sklearn.metrics import mean_squared_error\n",
    "\n",
    "predictors = ['Company_Adj', 'Beds', 'Bathrooms', 'Square_Feet','Year_Built','Lot_Size',\n",
    "              'Estimated_market_value','Estimated_Rental_Value','Estimated_Salesrange_min', 'Parking_Spaces',\n",
    "              'Walk_Score', 'Estimated_Salesrange_max']\n",
    "outcome = 'Selling_Price'\n",
    "\n",
    "# Partition data\n",
    "X = pd.get_dummies(redfin_df[predictors], drop_first=True)\n",
    "y = redfin_df[outcome]\n",
    "X_train, X_test, y_train, y_test = train_test_split(X, y, test_size=0.2, random_state=42)\n",
    "\n",
    "# Scale data\n",
    "scaler = StandardScaler()\n",
    "X_train_scaled = scaler.fit_transform(X_train)\n",
    "X_test_scaled = scaler.transform(X_test)\n",
    "\n",
    "# Train the KNeighborsRegressor model\n",
    "knn_model = KNeighborsRegressor()\n",
    "knn_model.fit(X_train_scaled, y_train)\n",
    "\n",
    "# Predictions and evaluation\n",
    "knn_predictions = knn_model.predict(X_test_scaled)\n",
    "print(f\"KNeighborsRegressor MSE: {mean_squared_error(y_test, knn_predictions):.2f}\")\n",
    "regressionSummary(y_test, knn_predictions)\n"
   ]
  },
  {
   "cell_type": "code",
   "execution_count": 70,
   "id": "kwFIOOo-vkjx",
   "metadata": {
    "colab": {
     "base_uri": "https://localhost:8080/"
    },
    "id": "kwFIOOo-vkjx",
    "outputId": "3699d660-4e5a-4150-c117-c0194164bcc2"
   },
   "outputs": [
    {
     "name": "stdout",
     "output_type": "stream",
     "text": [
      "GradientBoostingRegressor MSE: 1730665515851.24\n",
      "\n",
      "Regression statistics\n",
      "\n",
      "                      Mean Error (ME) : 57680.0533\n",
      "       Root Mean Squared Error (RMSE) : 1315547.6106\n",
      "            Mean Absolute Error (MAE) : 280366.0923\n",
      "          Mean Percentage Error (MPE) : -2.6956\n",
      "Mean Absolute Percentage Error (MAPE) : 9.6450\n"
     ]
    }
   ],
   "source": [
    "# GradientBoostingRegressor\n",
    "\n",
    "# GradientBoostingRegressor\n",
    "from sklearn.ensemble import GradientBoostingRegressor\n",
    "from sklearn.metrics import mean_squared_error\n",
    "\n",
    "predictors = ['Company_Adj', 'Beds', 'Bathrooms', 'Square_Feet','Year_Built','Lot_Size',\n",
    "              'Estimated_market_value','Estimated_Rental_Value','Estimated_Salesrange_min', 'Parking_Spaces',\n",
    "              'Walk_Score', 'Estimated_Salesrange_max']\n",
    "outcome = 'Selling_Price'\n",
    "\n",
    "# Partition data\n",
    "X = pd.get_dummies(redfin_df[predictors], drop_first=True)\n",
    "y = redfin_df[outcome]\n",
    "X_train, X_test, y_train, y_test = train_test_split(X, y, test_size=0.2, random_state=42)\n",
    "\n",
    "# Scale data\n",
    "scaler = StandardScaler()\n",
    "X_train_scaled = scaler.fit_transform(X_train)\n",
    "X_test_scaled = scaler.transform(X_test)\n",
    "\n",
    "# Train the GradientBoostingRegressor model\n",
    "gbr_model = GradientBoostingRegressor(random_state=42)\n",
    "gbr_model.fit(X_train_scaled, y_train)\n",
    "\n",
    "# Predictions and evaluation\n",
    "gbr_predictions = gbr_model.predict(X_test_scaled)\n",
    "print(f\"GradientBoostingRegressor MSE: {mean_squared_error(y_test, gbr_predictions):.2f}\")\n",
    "regressionSummary(y_test, gbr_predictions)\n"
   ]
  },
  {
   "cell_type": "code",
   "execution_count": 71,
   "id": "11k6DR2Zv0Q1",
   "metadata": {
    "colab": {
     "base_uri": "https://localhost:8080/"
    },
    "id": "11k6DR2Zv0Q1",
    "outputId": "b35ca4ce-ae72-4262-d932-5b051cee5306"
   },
   "outputs": [
    {
     "name": "stdout",
     "output_type": "stream",
     "text": [
      "SVR MSE: 7101621042942.87\n",
      "\n",
      "Regression statistics\n",
      "\n",
      "                      Mean Error (ME) : 454130.1190\n",
      "       Root Mean Squared Error (RMSE) : 2664886.6848\n",
      "            Mean Absolute Error (MAE) : 1082141.9311\n",
      "          Mean Percentage Error (MPE) : -13.7745\n",
      "Mean Absolute Percentage Error (MAPE) : 42.7723\n"
     ]
    }
   ],
   "source": [
    "# SVR\n",
    "\n",
    "# SVR\n",
    "from sklearn.svm import SVR\n",
    "from sklearn.metrics import mean_squared_error\n",
    "\n",
    "predictors = ['Company_Adj', 'Beds', 'Bathrooms', 'Square_Feet','Year_Built','Lot_Size',\n",
    "              'Estimated_market_value','Estimated_Rental_Value','Estimated_Salesrange_min', 'Parking_Spaces',\n",
    "              'Walk_Score', 'Estimated_Salesrange_max']\n",
    "outcome = 'Selling_Price'\n",
    "\n",
    "# Partition data\n",
    "X = pd.get_dummies(redfin_df[predictors], drop_first=True)\n",
    "y = redfin_df[outcome]\n",
    "X_train, X_test, y_train, y_test = train_test_split(X, y, test_size=0.2, random_state=42)\n",
    "\n",
    "# Scale data\n",
    "scaler = StandardScaler()\n",
    "X_train_scaled = scaler.fit_transform(X_train)\n",
    "X_test_scaled = scaler.transform(X_test)\n",
    "\n",
    "# Train the SVR model\n",
    "svr_model = SVR()\n",
    "svr_model.fit(X_train_scaled, y_train)\n",
    "\n",
    "# Predictions and evaluation\n",
    "svr_predictions = svr_model.predict(X_test_scaled)\n",
    "print(f\"SVR MSE: {mean_squared_error(y_test, svr_predictions):.2f}\")\n",
    "regressionSummary(y_test, svr_predictions)\n"
   ]
  },
  {
   "cell_type": "markdown",
   "id": "4c290d4b-fba1-4300-94ac-442886796026",
   "metadata": {
    "id": "4c290d4b-fba1-4300-94ac-442886796026"
   },
   "source": [
    "## Cross Validation"
   ]
  },
  {
   "cell_type": "code",
   "execution_count": 72,
   "id": "3a6c4367-35d5-4c1e-98f9-1a8d561c29d3",
   "metadata": {
    "colab": {
     "base_uri": "https://localhost:8080/"
    },
    "id": "3a6c4367-35d5-4c1e-98f9-1a8d561c29d3",
    "outputId": "60783558-1ce0-45df-be80-4c443bd2f5e2"
   },
   "outputs": [
    {
     "data": {
      "text/plain": [
       "3745"
      ]
     },
     "execution_count": 72,
     "metadata": {},
     "output_type": "execute_result"
    }
   ],
   "source": [
    "redfin_df = pd.read_excel('/Combined_Data.xlsx')\n",
    "redfin_df = redfin_df.dropna(subset=['Company_Adj'])\n",
    "redfin_df = redfin_df.reset_index(drop=True)\n",
    "redfin_df\n",
    "redfin_df.shape[0]"
   ]
  },
  {
   "cell_type": "code",
   "execution_count": 73,
   "id": "3f293b61-2727-4528-930e-ef81e6580655",
   "metadata": {
    "id": "3f293b61-2727-4528-930e-ef81e6580655"
   },
   "outputs": [],
   "source": [
    "redfin_df = redfin_df.dropna(axis=1) #dropping columns that have NaN"
   ]
  },
  {
   "cell_type": "code",
   "execution_count": 74,
   "id": "30bb3c20-9f5c-4813-a9d3-d776469bd85a",
   "metadata": {
    "colab": {
     "base_uri": "https://localhost:8080/"
    },
    "id": "30bb3c20-9f5c-4813-a9d3-d776469bd85a",
    "outputId": "6382530c-c18c-405b-858c-e282559e7d62"
   },
   "outputs": [
    {
     "data": {
      "text/plain": [
       "3745"
      ]
     },
     "execution_count": 74,
     "metadata": {},
     "output_type": "execute_result"
    }
   ],
   "source": [
    "values = [30]# remove the outlier\n",
    "redfin_df = redfin_df[redfin_df.Beds.isin(values) == False]\n",
    "redfin_df = redfin_df.reset_index(drop=True)\n",
    "redfin_df\n",
    "redfin_df.shape[0]"
   ]
  },
  {
   "cell_type": "code",
   "execution_count": 75,
   "id": "d8cd4ce2-6de4-44e8-8669-39c43e768274",
   "metadata": {
    "id": "d8cd4ce2-6de4-44e8-8669-39c43e768274"
   },
   "outputs": [],
   "source": [
    "predictors = ['Company_Adj', 'Beds', 'Bathrooms', 'Square_Feet','Year_Built','Lot_Size',\n",
    "              'Estimated_market_value','Estimated_Rental_Value','Estimated_Salesrange_min', 'Parking_Spaces',\n",
    "              'Walk_Score', 'Estimated_Salesrange_max']\n",
    "outcome = 'Selling_Price'\n",
    "\n",
    "X = pd.get_dummies(redfin_df[predictors], drop_first=True)\n",
    "y = redfin_df[outcome]"
   ]
  },
  {
   "cell_type": "code",
   "execution_count": 76,
   "id": "02395d9a-b307-4216-9328-be0011220ec9",
   "metadata": {
    "id": "02395d9a-b307-4216-9328-be0011220ec9"
   },
   "outputs": [],
   "source": [
    "from sklearn.model_selection import cross_val_score, KFold\n",
    "from sklearn.linear_model import LinearRegression, Lasso, Ridge\n",
    "from sklearn.ensemble import RandomForestRegressor\n",
    "from xgboost import XGBRegressor\n",
    "import numpy as np\n",
    "import pandas as pd\n",
    "from sklearn.metrics import r2_score\n",
    "from sklearn.preprocessing import StandardScaler\n",
    "\n",
    "# Define your regression models\n",
    "models = [\n",
    "    #LinearRegression(),\n",
    "    Lasso(alpha=1.0, max_iter=10000),\n",
    "    Ridge(alpha=10.0),\n",
    "    RandomForestRegressor(n_estimators=100, random_state=0),\n",
    "    XGBRegressor(n_estimators=100, objective='reg:squarederror'),\n",
    "    GradientBoostingRegressor(random_state=42),\n",
    "    KNeighborsRegressor(),\n",
    "    SVR()\n",
    "]"
   ]
  },
  {
   "cell_type": "code",
   "execution_count": 77,
   "id": "9ed085b9-3d1c-4b1b-9b7a-8eeadc696a87",
   "metadata": {
    "colab": {
     "base_uri": "https://localhost:8080/"
    },
    "id": "9ed085b9-3d1c-4b1b-9b7a-8eeadc696a87",
    "outputId": "e80b5478-c253-454a-a593-d1e2b48846c1"
   },
   "outputs": [
    {
     "name": "stderr",
     "output_type": "stream",
     "text": [
      "/usr/local/lib/python3.10/dist-packages/sklearn/linear_model/_coordinate_descent.py:697: ConvergenceWarning: Objective did not converge. You might want to increase the number of iterations, check the scale of the features or consider increasing regularisation. Duality gap: 8.376e+12, tolerance: 1.340e+12\n",
      "  model = cd_fast.enet_coordinate_descent(\n",
      "/usr/local/lib/python3.10/dist-packages/sklearn/linear_model/_coordinate_descent.py:697: ConvergenceWarning: Objective did not converge. You might want to increase the number of iterations, check the scale of the features or consider increasing regularisation. Duality gap: 5.332e+13, tolerance: 1.476e+12\n",
      "  model = cd_fast.enet_coordinate_descent(\n"
     ]
    },
    {
     "name": "stdout",
     "output_type": "stream",
     "text": [
      "                       Model Mean R-squared (%)\n",
      "0                      Lasso         -104524.76\n",
      "1                      Ridge              39.88\n",
      "2      RandomForestRegressor              87.01\n",
      "3               XGBRegressor              85.21\n",
      "4  GradientBoostingRegressor              87.28\n",
      "5        KNeighborsRegressor              45.16\n",
      "6                        SVR              -5.05\n"
     ]
    }
   ],
   "source": [
    "\n",
    "# Initialize lists to store model names and cross-validation percentage R-squared scores\n",
    "model_names = []\n",
    "mean_r2_scores = []\n",
    "\n",
    "# Create a StandardScaler object\n",
    "scaler = StandardScaler()\n",
    "\n",
    "# Scale the feature data\n",
    "X_scaled = scaler.fit_transform(X)\n",
    "\n",
    "# Calculate the baseline R-squared (e.g., mean of the target variable)\n",
    "baseline_r2 = r2_score(y, np.full_like(y, y.mean()))\n",
    "\n",
    "# Define the number of folds for cross-validation\n",
    "kfold = KFold(n_splits=5, shuffle=True, random_state=42)\n",
    "\n",
    "# Perform cross-validation for each regression model\n",
    "for model in models:\n",
    "    # Calculate R-squared scores for the model using cross-validation\n",
    "    scores = cross_val_score(model, X_scaled, y, cv=kfold, scoring='r2')\n",
    "\n",
    "    # Calculate the mean R-squared score\n",
    "    mean_r2 = scores.mean()\n",
    "\n",
    "    # Get the model name\n",
    "    model_name = model.__class__.__name__\n",
    "    model_names.append(model_name)\n",
    "\n",
    "    # Store the mean R-squared score\n",
    "    mean_r2_scores.append(mean_r2)\n",
    "\n",
    "# Create a DataFrame\n",
    "data = {\n",
    "    'Model': model_names,\n",
    "    'Mean R-squared (%)': [f'{r2 * 100:.2f}' for r2 in mean_r2_scores],\n",
    "}\n",
    "\n",
    "df = pd.DataFrame(data)\n",
    "\n",
    "# Print the DataFrame\n",
    "print(df)"
   ]
  },
  {
   "cell_type": "code",
   "execution_count": null,
   "id": "7417a95b-1eb2-48f2-8299-4ccf89c8f016",
   "metadata": {
    "id": "7417a95b-1eb2-48f2-8299-4ccf89c8f016"
   },
   "outputs": [],
   "source": []
  }
 ],
 "metadata": {
  "colab": {
   "provenance": []
  },
  "kernelspec": {
   "display_name": "Python 3",
   "language": "python",
   "name": "python3"
  },
  "language_info": {
   "codemirror_mode": {
    "name": "ipython",
    "version": 3
   },
   "file_extension": ".py",
   "mimetype": "text/x-python",
   "name": "python",
   "nbconvert_exporter": "python",
   "pygments_lexer": "ipython3",
   "version": "3.11.4"
  }
 },
 "nbformat": 4,
 "nbformat_minor": 5
}
